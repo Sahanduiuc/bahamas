{
 "cells": [
  {
   "cell_type": "code",
   "execution_count": null,
   "metadata": {},
   "outputs": [],
   "source": [
    "import pandas as pd\n",
    "import numpy as np\n",
    "import mibian\n",
    "from datetime import datetime\n",
    "\n",
    "df = pd.read_csv('CL_Test.csv', low_memory=False)\n",
    "dates_Meta = open('exp_CL_dates.txt', 'w')\n",
    "chain_Meta = open('exp_CL_chains.csv', 'w')\n",
    "contract_Meta = open('exp_CL_contracts.csv', 'w')"
   ]
  },
  {
   "cell_type": "code",
   "execution_count": 168,
   "metadata": {},
   "outputs": [],
   "source": [
    "rowCount = 0\n",
    "chain_data = {}\n",
    "contract_data = {}\n",
    "price_data = {}\n",
    "\n",
    "class chain(object):\n",
    "    def __init__(self, symbol, exp_date):\n",
    "        self.symbol = symbol\n",
    "        self.exp_date = exp_date\n",
    "        \n",
    "class contract(object):\n",
    "    def __init__(self,symbol, exp_date, strike, type, chain_id, close_index):\n",
    "        self.symbol = symbol\n",
    "        self.exp_date = exp_date\n",
    "        self.strike = strike\n",
    "        self.type = type\n",
    "        self.chain_id = chain_id\n",
    "        self.close_index = close_index\n",
    "        self.p_data = {}\n",
    "        \n",
    "    def addPrice(self,date,price):\n",
    "        self.p_data[date] = price\n",
    " \n",
    "m_index = 0;\n",
    "for index, row in df.iterrows():\n",
    "    chainId = row[\"option root symbol\"] + \"_\" + row[\"expiration\"]\n",
    "    c_data = chain(row[\"option root symbol\"],row[\"expiration\"])\n",
    "    chain_data[chainId] = c_data\n",
    "    contractId = chainId + \"_\" + str(row[\"strike\"]) + \"_\" + row[\"call/put\"]\n",
    "    if not contractId in contract_data: \n",
    "        temp_contract = contract(row[\"option root symbol\"],row[\"expiration\"],row[\"strike\"],row[\"call/put\"],chainId,m_index)\n",
    "        contract_data[contractId] = temp_contract\n",
    "        m_index += 1;\n",
    "    contract_data[contractId].addPrice(row[\"date\"],row[\"settlement price\"])    \n"
   ]
  },
  {
   "cell_type": "code",
   "execution_count": null,
   "metadata": {},
   "outputs": [],
   "source": [
    "#Export trading days\n",
    "dates = list(set(df[\"date\"]))\n",
    "dates.sort()\n",
    "for date in dates:\n",
    "    dates_Meta.write(\"%s\\n\" % date)\n",
    "dates_Meta.close()   \n",
    "\n",
    "#Export chain data\n",
    "c_ids = list(chain_data.keys())\n",
    "chain_Meta.write(\"%s\\n\" % \"id,option_symbol,expiration_date\")\n",
    "for c_id in c_ids:\n",
    "    row = c_id + \",\" + chain_data[c_id].symbol + \",\" + chain_data[c_id].exp_date\n",
    "    chain_Meta.write(\"%s\\n\" % row)    \n",
    "chain_Meta.close()\n",
    "\n",
    "#Export contract data\n",
    "contract_ids = list(contract_data.keys())\n",
    "contract_Meta.write(\"%s\\n\" % \"id,option_symbol,expiration_date,strike,type,chain_id,close_index\")\n",
    "for con_id in contract_ids:\n",
    "    row = con_id + \",\" + contract_data[con_id].symbol + \",\" + contract_data[con_id].exp_date + \",\" + str(contract_data[con_id].strike) + \",\" + contract_data[con_id].type + \",\" + contract_data[con_id].chain_id + \",\" + str(contract_data[con_id].close_index)\n",
    "    contract_Meta.write(\"%s\\n\" % row)\n",
    "contract_Meta.close()    \n",
    "\n",
    "#Export price data\n",
    "price_df = pd.DataFrame(columns=dates)\n",
    "contract_ids = list(contract_data.keys())\n",
    "for con_id in contract_ids:\n",
    "    prices = contract_data[con_id].p_data\n",
    "    for p_index in prices:\n",
    "        price_df.at[contract_data[con_id].close_index,p_index] = prices[p_index]\n",
    "price_df = price_df.fillna(-1.0)\n",
    "price_df.to_csv(\"exp_CL_data.csv\")"
   ]
  },
  {
   "cell_type": "code",
   "execution_count": null,
   "metadata": {},
   "outputs": [],
   "source": []
  }
 ],
 "metadata": {
  "kernelspec": {
   "display_name": "Python 3",
   "language": "python",
   "name": "python3"
  },
  "language_info": {
   "codemirror_mode": {
    "name": "ipython",
    "version": 3
   },
   "file_extension": ".py",
   "mimetype": "text/x-python",
   "name": "python",
   "nbconvert_exporter": "python",
   "pygments_lexer": "ipython3",
   "version": "3.6.5"
  }
 },
 "nbformat": 4,
 "nbformat_minor": 2
}
