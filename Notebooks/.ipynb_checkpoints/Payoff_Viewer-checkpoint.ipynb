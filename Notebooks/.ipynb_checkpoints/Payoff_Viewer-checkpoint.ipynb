{
 "cells": [
  {
   "cell_type": "code",
   "execution_count": null,
   "metadata": {},
   "outputs": [],
   "source": [
    "import mibian\n",
    "import plotly\n",
    "import plotly.plotly as py\n",
    "import plotly.graph_objs as go\n",
    "import numpy as np\n",
    "\n",
    "plotly.tools.set_credentials_file(username='shamitha4', api_key='yC79s1RHuCHV2Jc3hwTj')\n",
    "plotly.offline.init_notebook_mode(connected=True)"
   ]
  },
  {
   "cell_type": "code",
   "execution_count": 47,
   "metadata": {},
   "outputs": [],
   "source": [
    "class option(object):\n",
    "   def  __init__(self, strike, price, type, units, action):\n",
    "        self.strike = strike\n",
    "        self.type = type\n",
    "        self.price = price\n",
    "        self.units = units\n",
    "        self.action = action\n",
    "        optDat = mibian.BS([61.77, self.strike, 1.45, 56], putPrice=(self.price/1000))\n",
    "        self.impliedVolatility = optDat.impliedVolatility"
   ]
  },
  {
   "cell_type": "code",
   "execution_count": 49,
   "metadata": {},
   "outputs": [
    {
     "name": "stdout",
     "output_type": "stream",
     "text": [
      "High five! You successfully sent some data to your account on plotly. View your plot in your browser at https://plot.ly/~shamitha4/0 or inside your plot.ly account where it is named 'line-mode'\n"
     ]
    },
    {
     "data": {
      "text/html": [
       "<iframe id=\"igraph\" scrolling=\"no\" style=\"border:none;\" seamless=\"seamless\" src=\"https://plot.ly/~shamitha4/0.embed\" height=\"525px\" width=\"100%\"></iframe>"
      ],
      "text/plain": [
       "<plotly.tools.PlotlyDisplay object>"
      ]
     },
     "execution_count": 49,
     "metadata": {},
     "output_type": "execute_result"
    }
   ],
   "source": [
    "p00 = option(56.5,750,'P', 1,1)\n",
    "p01 = option(60,1695,'P', 2,-1)\n",
    "p02 = option(63,3170,'P', 1,1)\n",
    "\n",
    "options = [p00, p01, p02]\n",
    "\n",
    "underlying  = [p/10 for p in range(450, 750)]\n",
    "vals = []\n",
    "theoVals = []\n",
    "\n",
    "for val in underlying:\n",
    "    tot_val = 0.0    \n",
    "    for contract in options:            \n",
    "        if val > contract.strike:\n",
    "            tot_val += (0 -  contract.price) * contract.action * contract.units;\n",
    "        else:\n",
    "            tot_val += (((contract.strike - val)*1000) - contract.price) * contract.action * contract.units\n",
    "    vals.append(tot_val)    \n",
    "\n",
    "for val in underlying:\n",
    "    tot_val = 0.0    \n",
    "    for contract in options:\n",
    "        calc = mibian.BS([val, contract.strike, 1.45, 56], volatility = contract.impliedVolatility)\n",
    "        tot_val += ((calc.putPrice * 1000) - contract.price) * contract.action * contract.units\n",
    "        \n",
    "    theoVals.append(tot_val)\n",
    "       \n",
    "trace0 = go.Scatter(x=underlying,y=vals,mode = 'lines',name = 'expiration')\n",
    "trace1 = go.Scatter(x=underlying,y=theoVals,mode = 'lines',name = 't+0')\n",
    "data = [trace0,trace1]\n",
    "py.iplot(data, filename='line-mode')"
   ]
  },
  {
   "cell_type": "code",
   "execution_count": null,
   "metadata": {},
   "outputs": [],
   "source": []
  }
 ],
 "metadata": {
  "kernelspec": {
   "display_name": "Python 3",
   "language": "python",
   "name": "python3"
  },
  "language_info": {
   "codemirror_mode": {
    "name": "ipython",
    "version": 3
   },
   "file_extension": ".py",
   "mimetype": "text/x-python",
   "name": "python",
   "nbconvert_exporter": "python",
   "pygments_lexer": "ipython3",
   "version": "3.6.5"
  }
 },
 "nbformat": 4,
 "nbformat_minor": 2
}
